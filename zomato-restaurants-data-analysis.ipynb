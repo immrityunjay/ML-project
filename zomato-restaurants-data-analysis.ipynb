{
 "cells": [
  {
   "cell_type": "code",
   "execution_count": 1,
   "id": "84d538f6",
   "metadata": {
    "_cell_guid": "b1076dfc-b9ad-4769-8c92-a6c4dae69d19",
    "_uuid": "8f2839f25d086af736a60e9eeb907d3b93b6e0e5",
    "execution": {
     "iopub.execute_input": "2023-04-11T11:54:22.905005Z",
     "iopub.status.busy": "2023-04-11T11:54:22.904380Z",
     "iopub.status.idle": "2023-04-11T11:54:22.923661Z",
     "shell.execute_reply": "2023-04-11T11:54:22.922526Z"
    },
    "papermill": {
     "duration": 0.033934,
     "end_time": "2023-04-11T11:54:22.926343",
     "exception": false,
     "start_time": "2023-04-11T11:54:22.892409",
     "status": "completed"
    },
    "tags": []
   },
   "outputs": [
    {
     "name": "stdout",
     "output_type": "stream",
     "text": [
      "/kaggle/input/zomato-restaurants-rating-dataset/zomato.csv\n",
      "/kaggle/input/zomato-restaurants-rating-dataset/Country-Code.csv\n"
     ]
    }
   ],
   "source": [
    "# This Python 3 environment comes with many helpful analytics libraries installed\n",
    "# It is defined by the kaggle/python Docker image: https://github.com/kaggle/docker-python\n",
    "# For example, here's several helpful packages to load\n",
    "\n",
    "import numpy as np # linear algebra\n",
    "import pandas as pd # data processing, CSV file I/O (e.g. pd.read_csv)\n",
    "\n",
    "# Input data files are available in the read-only \"../input/\" directory\n",
    "# For example, running this (by clicking run or pressing Shift+Enter) will list all files under the input directory\n",
    "\n",
    "import os\n",
    "for dirname, _, filenames in os.walk('/kaggle/input'):\n",
    "    for filename in filenames:\n",
    "        print(os.path.join(dirname, filename))\n",
    "\n",
    "# You can write up to 20GB to the current directory (/kaggle/working/) that gets preserved as output when you create a version using \"Save & Run All\" \n",
    "# You can also write temporary files to /kaggle/temp/, but they won't be saved outside of the current session"
   ]
  },
  {
   "cell_type": "code",
   "execution_count": 2,
   "id": "ab6db81e",
   "metadata": {
    "execution": {
     "iopub.execute_input": "2023-04-11T11:54:22.944327Z",
     "iopub.status.busy": "2023-04-11T11:54:22.943944Z",
     "iopub.status.idle": "2023-04-11T11:54:24.047469Z",
     "shell.execute_reply": "2023-04-11T11:54:24.046271Z"
    },
    "papermill": {
     "duration": 1.115837,
     "end_time": "2023-04-11T11:54:24.050278",
     "exception": false,
     "start_time": "2023-04-11T11:54:22.934441",
     "status": "completed"
    },
    "tags": []
   },
   "outputs": [],
   "source": [
    "import numpy as np\n",
    "import pandas as pd\n",
    "import warnings\n",
    "warnings.filterwarnings('ignore')\n",
    "import matplotlib.pyplot\n",
    "%matplotlib inline\n",
    "import seaborn as sns"
   ]
  },
  {
   "cell_type": "markdown",
   "id": "b2419e8e",
   "metadata": {
    "papermill": {
     "duration": 0.00732,
     "end_time": "2023-04-11T11:54:24.065384",
     "exception": false,
     "start_time": "2023-04-11T11:54:24.058064",
     "status": "completed"
    },
    "tags": []
   },
   "source": [
    "python libraries that will help in performing EDA"
   ]
  },
  {
   "cell_type": "markdown",
   "id": "4cf37680",
   "metadata": {
    "papermill": {
     "duration": 0.007383,
     "end_time": "2023-04-11T11:54:24.080386",
     "exception": false,
     "start_time": "2023-04-11T11:54:24.073003",
     "status": "completed"
    },
    "tags": []
   },
   "source": [
    "Data is encoded in latin-1 so to read data we need to apply encodng of latin-1 to it"
   ]
  },
  {
   "cell_type": "code",
   "execution_count": 3,
   "id": "d2388334",
   "metadata": {
    "execution": {
     "iopub.execute_input": "2023-04-11T11:54:24.097488Z",
     "iopub.status.busy": "2023-04-11T11:54:24.097084Z",
     "iopub.status.idle": "2023-04-11T11:54:24.229241Z",
     "shell.execute_reply": "2023-04-11T11:54:24.228063Z"
    },
    "papermill": {
     "duration": 0.143698,
     "end_time": "2023-04-11T11:54:24.231623",
     "exception": false,
     "start_time": "2023-04-11T11:54:24.087925",
     "status": "completed"
    },
    "tags": []
   },
   "outputs": [
    {
     "data": {
      "text/html": [
       "<div>\n",
       "<style scoped>\n",
       "    .dataframe tbody tr th:only-of-type {\n",
       "        vertical-align: middle;\n",
       "    }\n",
       "\n",
       "    .dataframe tbody tr th {\n",
       "        vertical-align: top;\n",
       "    }\n",
       "\n",
       "    .dataframe thead th {\n",
       "        text-align: right;\n",
       "    }\n",
       "</style>\n",
       "<table border=\"1\" class=\"dataframe\">\n",
       "  <thead>\n",
       "    <tr style=\"text-align: right;\">\n",
       "      <th></th>\n",
       "      <th>Restaurant ID</th>\n",
       "      <th>Restaurant Name</th>\n",
       "      <th>Country Code</th>\n",
       "      <th>City</th>\n",
       "      <th>Address</th>\n",
       "      <th>Locality</th>\n",
       "      <th>Locality Verbose</th>\n",
       "      <th>Longitude</th>\n",
       "      <th>Latitude</th>\n",
       "      <th>Cuisines</th>\n",
       "      <th>...</th>\n",
       "      <th>Currency</th>\n",
       "      <th>Has Table booking</th>\n",
       "      <th>Has Online delivery</th>\n",
       "      <th>Is delivering now</th>\n",
       "      <th>Switch to order menu</th>\n",
       "      <th>Price range</th>\n",
       "      <th>Aggregate rating</th>\n",
       "      <th>Rating color</th>\n",
       "      <th>Rating text</th>\n",
       "      <th>Votes</th>\n",
       "    </tr>\n",
       "  </thead>\n",
       "  <tbody>\n",
       "    <tr>\n",
       "      <th>0</th>\n",
       "      <td>6317637</td>\n",
       "      <td>Le Petit Souffle</td>\n",
       "      <td>162</td>\n",
       "      <td>Makati City</td>\n",
       "      <td>Third Floor, Century City Mall, Kalayaan Avenu...</td>\n",
       "      <td>Century City Mall, Poblacion, Makati City</td>\n",
       "      <td>Century City Mall, Poblacion, Makati City, Mak...</td>\n",
       "      <td>121.027535</td>\n",
       "      <td>14.565443</td>\n",
       "      <td>French, Japanese, Desserts</td>\n",
       "      <td>...</td>\n",
       "      <td>Botswana Pula(P)</td>\n",
       "      <td>Yes</td>\n",
       "      <td>No</td>\n",
       "      <td>No</td>\n",
       "      <td>No</td>\n",
       "      <td>3</td>\n",
       "      <td>4.8</td>\n",
       "      <td>Dark Green</td>\n",
       "      <td>Excellent</td>\n",
       "      <td>314</td>\n",
       "    </tr>\n",
       "    <tr>\n",
       "      <th>1</th>\n",
       "      <td>6304287</td>\n",
       "      <td>Izakaya Kikufuji</td>\n",
       "      <td>162</td>\n",
       "      <td>Makati City</td>\n",
       "      <td>Little Tokyo, 2277 Chino Roces Avenue, Legaspi...</td>\n",
       "      <td>Little Tokyo, Legaspi Village, Makati City</td>\n",
       "      <td>Little Tokyo, Legaspi Village, Makati City, Ma...</td>\n",
       "      <td>121.014101</td>\n",
       "      <td>14.553708</td>\n",
       "      <td>Japanese</td>\n",
       "      <td>...</td>\n",
       "      <td>Botswana Pula(P)</td>\n",
       "      <td>Yes</td>\n",
       "      <td>No</td>\n",
       "      <td>No</td>\n",
       "      <td>No</td>\n",
       "      <td>3</td>\n",
       "      <td>4.5</td>\n",
       "      <td>Dark Green</td>\n",
       "      <td>Excellent</td>\n",
       "      <td>591</td>\n",
       "    </tr>\n",
       "    <tr>\n",
       "      <th>2</th>\n",
       "      <td>6300002</td>\n",
       "      <td>Heat - Edsa Shangri-La</td>\n",
       "      <td>162</td>\n",
       "      <td>Mandaluyong City</td>\n",
       "      <td>Edsa Shangri-La, 1 Garden Way, Ortigas, Mandal...</td>\n",
       "      <td>Edsa Shangri-La, Ortigas, Mandaluyong City</td>\n",
       "      <td>Edsa Shangri-La, Ortigas, Mandaluyong City, Ma...</td>\n",
       "      <td>121.056831</td>\n",
       "      <td>14.581404</td>\n",
       "      <td>Seafood, Asian, Filipino, Indian</td>\n",
       "      <td>...</td>\n",
       "      <td>Botswana Pula(P)</td>\n",
       "      <td>Yes</td>\n",
       "      <td>No</td>\n",
       "      <td>No</td>\n",
       "      <td>No</td>\n",
       "      <td>4</td>\n",
       "      <td>4.4</td>\n",
       "      <td>Green</td>\n",
       "      <td>Very Good</td>\n",
       "      <td>270</td>\n",
       "    </tr>\n",
       "    <tr>\n",
       "      <th>3</th>\n",
       "      <td>6318506</td>\n",
       "      <td>Ooma</td>\n",
       "      <td>162</td>\n",
       "      <td>Mandaluyong City</td>\n",
       "      <td>Third Floor, Mega Fashion Hall, SM Megamall, O...</td>\n",
       "      <td>SM Megamall, Ortigas, Mandaluyong City</td>\n",
       "      <td>SM Megamall, Ortigas, Mandaluyong City, Mandal...</td>\n",
       "      <td>121.056475</td>\n",
       "      <td>14.585318</td>\n",
       "      <td>Japanese, Sushi</td>\n",
       "      <td>...</td>\n",
       "      <td>Botswana Pula(P)</td>\n",
       "      <td>No</td>\n",
       "      <td>No</td>\n",
       "      <td>No</td>\n",
       "      <td>No</td>\n",
       "      <td>4</td>\n",
       "      <td>4.9</td>\n",
       "      <td>Dark Green</td>\n",
       "      <td>Excellent</td>\n",
       "      <td>365</td>\n",
       "    </tr>\n",
       "    <tr>\n",
       "      <th>4</th>\n",
       "      <td>6314302</td>\n",
       "      <td>Sambo Kojin</td>\n",
       "      <td>162</td>\n",
       "      <td>Mandaluyong City</td>\n",
       "      <td>Third Floor, Mega Atrium, SM Megamall, Ortigas...</td>\n",
       "      <td>SM Megamall, Ortigas, Mandaluyong City</td>\n",
       "      <td>SM Megamall, Ortigas, Mandaluyong City, Mandal...</td>\n",
       "      <td>121.057508</td>\n",
       "      <td>14.584450</td>\n",
       "      <td>Japanese, Korean</td>\n",
       "      <td>...</td>\n",
       "      <td>Botswana Pula(P)</td>\n",
       "      <td>Yes</td>\n",
       "      <td>No</td>\n",
       "      <td>No</td>\n",
       "      <td>No</td>\n",
       "      <td>4</td>\n",
       "      <td>4.8</td>\n",
       "      <td>Dark Green</td>\n",
       "      <td>Excellent</td>\n",
       "      <td>229</td>\n",
       "    </tr>\n",
       "  </tbody>\n",
       "</table>\n",
       "<p>5 rows × 21 columns</p>\n",
       "</div>"
      ],
      "text/plain": [
       "   Restaurant ID         Restaurant Name  Country Code              City  \\\n",
       "0        6317637        Le Petit Souffle           162       Makati City   \n",
       "1        6304287        Izakaya Kikufuji           162       Makati City   \n",
       "2        6300002  Heat - Edsa Shangri-La           162  Mandaluyong City   \n",
       "3        6318506                    Ooma           162  Mandaluyong City   \n",
       "4        6314302             Sambo Kojin           162  Mandaluyong City   \n",
       "\n",
       "                                             Address  \\\n",
       "0  Third Floor, Century City Mall, Kalayaan Avenu...   \n",
       "1  Little Tokyo, 2277 Chino Roces Avenue, Legaspi...   \n",
       "2  Edsa Shangri-La, 1 Garden Way, Ortigas, Mandal...   \n",
       "3  Third Floor, Mega Fashion Hall, SM Megamall, O...   \n",
       "4  Third Floor, Mega Atrium, SM Megamall, Ortigas...   \n",
       "\n",
       "                                     Locality  \\\n",
       "0   Century City Mall, Poblacion, Makati City   \n",
       "1  Little Tokyo, Legaspi Village, Makati City   \n",
       "2  Edsa Shangri-La, Ortigas, Mandaluyong City   \n",
       "3      SM Megamall, Ortigas, Mandaluyong City   \n",
       "4      SM Megamall, Ortigas, Mandaluyong City   \n",
       "\n",
       "                                    Locality Verbose   Longitude   Latitude  \\\n",
       "0  Century City Mall, Poblacion, Makati City, Mak...  121.027535  14.565443   \n",
       "1  Little Tokyo, Legaspi Village, Makati City, Ma...  121.014101  14.553708   \n",
       "2  Edsa Shangri-La, Ortigas, Mandaluyong City, Ma...  121.056831  14.581404   \n",
       "3  SM Megamall, Ortigas, Mandaluyong City, Mandal...  121.056475  14.585318   \n",
       "4  SM Megamall, Ortigas, Mandaluyong City, Mandal...  121.057508  14.584450   \n",
       "\n",
       "                           Cuisines  ...          Currency Has Table booking  \\\n",
       "0        French, Japanese, Desserts  ...  Botswana Pula(P)               Yes   \n",
       "1                          Japanese  ...  Botswana Pula(P)               Yes   \n",
       "2  Seafood, Asian, Filipino, Indian  ...  Botswana Pula(P)               Yes   \n",
       "3                   Japanese, Sushi  ...  Botswana Pula(P)                No   \n",
       "4                  Japanese, Korean  ...  Botswana Pula(P)               Yes   \n",
       "\n",
       "  Has Online delivery Is delivering now Switch to order menu Price range  \\\n",
       "0                  No                No                   No           3   \n",
       "1                  No                No                   No           3   \n",
       "2                  No                No                   No           4   \n",
       "3                  No                No                   No           4   \n",
       "4                  No                No                   No           4   \n",
       "\n",
       "   Aggregate rating  Rating color Rating text Votes  \n",
       "0               4.8    Dark Green   Excellent   314  \n",
       "1               4.5    Dark Green   Excellent   591  \n",
       "2               4.4         Green   Very Good   270  \n",
       "3               4.9    Dark Green   Excellent   365  \n",
       "4               4.8    Dark Green   Excellent   229  \n",
       "\n",
       "[5 rows x 21 columns]"
      ]
     },
     "execution_count": 3,
     "metadata": {},
     "output_type": "execute_result"
    }
   ],
   "source": [
    "df=pd.read_csv('../input/zomato-restaurants-rating-dataset/zomato.csv',encoding=\"latin-1\")\n",
    "df.head()"
   ]
  },
  {
   "cell_type": "markdown",
   "id": "f7467d13",
   "metadata": {
    "papermill": {
     "duration": 0.007757,
     "end_time": "2023-04-11T11:54:24.249104",
     "exception": false,
     "start_time": "2023-04-11T11:54:24.241347",
     "status": "completed"
    },
    "tags": []
   },
   "source": [
    "**Checking Null values in dataset**"
   ]
  },
  {
   "cell_type": "code",
   "execution_count": 4,
   "id": "e8a60d48",
   "metadata": {
    "execution": {
     "iopub.execute_input": "2023-04-11T11:54:24.267160Z",
     "iopub.status.busy": "2023-04-11T11:54:24.266513Z",
     "iopub.status.idle": "2023-04-11T11:54:24.284089Z",
     "shell.execute_reply": "2023-04-11T11:54:24.282820Z"
    },
    "papermill": {
     "duration": 0.029422,
     "end_time": "2023-04-11T11:54:24.286551",
     "exception": false,
     "start_time": "2023-04-11T11:54:24.257129",
     "status": "completed"
    },
    "tags": []
   },
   "outputs": [
    {
     "data": {
      "text/plain": [
       "Restaurant ID           False\n",
       "Restaurant Name         False\n",
       "Country Code            False\n",
       "City                    False\n",
       "Address                 False\n",
       "Locality                False\n",
       "Locality Verbose        False\n",
       "Longitude               False\n",
       "Latitude                False\n",
       "Cuisines                 True\n",
       "Average Cost for two    False\n",
       "Currency                False\n",
       "Has Table booking       False\n",
       "Has Online delivery     False\n",
       "Is delivering now       False\n",
       "Switch to order menu    False\n",
       "Price range             False\n",
       "Aggregate rating        False\n",
       "Rating color            False\n",
       "Rating text             False\n",
       "Votes                   False\n",
       "dtype: bool"
      ]
     },
     "execution_count": 4,
     "metadata": {},
     "output_type": "execute_result"
    }
   ],
   "source": [
    "nan_values=df.isna()\n",
    "nan_columns=nan_values.any()\n",
    "nan_columns"
   ]
  },
  {
   "cell_type": "markdown",
   "id": "60f5aa1c",
   "metadata": {
    "papermill": {
     "duration": 0.008076,
     "end_time": "2023-04-11T11:54:24.303053",
     "exception": false,
     "start_time": "2023-04-11T11:54:24.294977",
     "status": "completed"
    },
    "tags": []
   },
   "source": [
    "so here we know that only cuisines column has null values"
   ]
  },
  {
   "cell_type": "code",
   "execution_count": 5,
   "id": "ce3c2c75",
   "metadata": {
    "execution": {
     "iopub.execute_input": "2023-04-11T11:54:24.322139Z",
     "iopub.status.busy": "2023-04-11T11:54:24.321716Z",
     "iopub.status.idle": "2023-04-11T11:54:24.334945Z",
     "shell.execute_reply": "2023-04-11T11:54:24.333837Z"
    },
    "papermill": {
     "duration": 0.025418,
     "end_time": "2023-04-11T11:54:24.337268",
     "exception": false,
     "start_time": "2023-04-11T11:54:24.311850",
     "status": "completed"
    },
    "tags": []
   },
   "outputs": [
    {
     "name": "stdout",
     "output_type": "stream",
     "text": [
      "   Country Code    Country\n",
      "0             1      India\n",
      "1            14  Australia\n",
      "2            30     Brazil\n",
      "3            37     Canada\n",
      "4            94  Indonesia\n"
     ]
    },
    {
     "data": {
      "text/plain": [
       "15"
      ]
     },
     "execution_count": 5,
     "metadata": {},
     "output_type": "execute_result"
    }
   ],
   "source": [
    "df1=pd.read_csv(\"../input/zomato-restaurants-rating-dataset/Country-Code.csv\")\n",
    "print(df1.head())\n",
    "len(df1.index)"
   ]
  },
  {
   "cell_type": "markdown",
   "id": "2b96f532",
   "metadata": {
    "papermill": {
     "duration": 0.008471,
     "end_time": "2023-04-11T11:54:24.354392",
     "exception": false,
     "start_time": "2023-04-11T11:54:24.345921",
     "status": "completed"
    },
    "tags": []
   },
   "source": [
    "so we have data of 15 countries with their country codes. to ease the process of EDA, merging both the dataset \n"
   ]
  },
  {
   "cell_type": "code",
   "execution_count": 6,
   "id": "00e09e5e",
   "metadata": {
    "execution": {
     "iopub.execute_input": "2023-04-11T11:54:24.373140Z",
     "iopub.status.busy": "2023-04-11T11:54:24.372722Z",
     "iopub.status.idle": "2023-04-11T11:54:24.428181Z",
     "shell.execute_reply": "2023-04-11T11:54:24.426536Z"
    },
    "papermill": {
     "duration": 0.067584,
     "end_time": "2023-04-11T11:54:24.430687",
     "exception": false,
     "start_time": "2023-04-11T11:54:24.363103",
     "status": "completed"
    },
    "tags": []
   },
   "outputs": [
    {
     "data": {
      "text/html": [
       "<div>\n",
       "<style scoped>\n",
       "    .dataframe tbody tr th:only-of-type {\n",
       "        vertical-align: middle;\n",
       "    }\n",
       "\n",
       "    .dataframe tbody tr th {\n",
       "        vertical-align: top;\n",
       "    }\n",
       "\n",
       "    .dataframe thead th {\n",
       "        text-align: right;\n",
       "    }\n",
       "</style>\n",
       "<table border=\"1\" class=\"dataframe\">\n",
       "  <thead>\n",
       "    <tr style=\"text-align: right;\">\n",
       "      <th></th>\n",
       "      <th>Restaurant ID</th>\n",
       "      <th>Restaurant Name</th>\n",
       "      <th>Country Code</th>\n",
       "      <th>City</th>\n",
       "      <th>Address</th>\n",
       "      <th>Locality</th>\n",
       "      <th>Locality Verbose</th>\n",
       "      <th>Longitude</th>\n",
       "      <th>Latitude</th>\n",
       "      <th>Cuisines</th>\n",
       "      <th>...</th>\n",
       "      <th>Has Table booking</th>\n",
       "      <th>Has Online delivery</th>\n",
       "      <th>Is delivering now</th>\n",
       "      <th>Switch to order menu</th>\n",
       "      <th>Price range</th>\n",
       "      <th>Aggregate rating</th>\n",
       "      <th>Rating color</th>\n",
       "      <th>Rating text</th>\n",
       "      <th>Votes</th>\n",
       "      <th>Country</th>\n",
       "    </tr>\n",
       "  </thead>\n",
       "  <tbody>\n",
       "    <tr>\n",
       "      <th>0</th>\n",
       "      <td>6317637</td>\n",
       "      <td>Le Petit Souffle</td>\n",
       "      <td>162</td>\n",
       "      <td>Makati City</td>\n",
       "      <td>Third Floor, Century City Mall, Kalayaan Avenu...</td>\n",
       "      <td>Century City Mall, Poblacion, Makati City</td>\n",
       "      <td>Century City Mall, Poblacion, Makati City, Mak...</td>\n",
       "      <td>121.027535</td>\n",
       "      <td>14.565443</td>\n",
       "      <td>French, Japanese, Desserts</td>\n",
       "      <td>...</td>\n",
       "      <td>Yes</td>\n",
       "      <td>No</td>\n",
       "      <td>No</td>\n",
       "      <td>No</td>\n",
       "      <td>3</td>\n",
       "      <td>4.8</td>\n",
       "      <td>Dark Green</td>\n",
       "      <td>Excellent</td>\n",
       "      <td>314</td>\n",
       "      <td>Phillipines</td>\n",
       "    </tr>\n",
       "    <tr>\n",
       "      <th>1</th>\n",
       "      <td>6304287</td>\n",
       "      <td>Izakaya Kikufuji</td>\n",
       "      <td>162</td>\n",
       "      <td>Makati City</td>\n",
       "      <td>Little Tokyo, 2277 Chino Roces Avenue, Legaspi...</td>\n",
       "      <td>Little Tokyo, Legaspi Village, Makati City</td>\n",
       "      <td>Little Tokyo, Legaspi Village, Makati City, Ma...</td>\n",
       "      <td>121.014101</td>\n",
       "      <td>14.553708</td>\n",
       "      <td>Japanese</td>\n",
       "      <td>...</td>\n",
       "      <td>Yes</td>\n",
       "      <td>No</td>\n",
       "      <td>No</td>\n",
       "      <td>No</td>\n",
       "      <td>3</td>\n",
       "      <td>4.5</td>\n",
       "      <td>Dark Green</td>\n",
       "      <td>Excellent</td>\n",
       "      <td>591</td>\n",
       "      <td>Phillipines</td>\n",
       "    </tr>\n",
       "  </tbody>\n",
       "</table>\n",
       "<p>2 rows × 22 columns</p>\n",
       "</div>"
      ],
      "text/plain": [
       "   Restaurant ID   Restaurant Name  Country Code         City  \\\n",
       "0        6317637  Le Petit Souffle           162  Makati City   \n",
       "1        6304287  Izakaya Kikufuji           162  Makati City   \n",
       "\n",
       "                                             Address  \\\n",
       "0  Third Floor, Century City Mall, Kalayaan Avenu...   \n",
       "1  Little Tokyo, 2277 Chino Roces Avenue, Legaspi...   \n",
       "\n",
       "                                     Locality  \\\n",
       "0   Century City Mall, Poblacion, Makati City   \n",
       "1  Little Tokyo, Legaspi Village, Makati City   \n",
       "\n",
       "                                    Locality Verbose   Longitude   Latitude  \\\n",
       "0  Century City Mall, Poblacion, Makati City, Mak...  121.027535  14.565443   \n",
       "1  Little Tokyo, Legaspi Village, Makati City, Ma...  121.014101  14.553708   \n",
       "\n",
       "                     Cuisines  ...  Has Table booking Has Online delivery  \\\n",
       "0  French, Japanese, Desserts  ...                Yes                  No   \n",
       "1                    Japanese  ...                Yes                  No   \n",
       "\n",
       "  Is delivering now Switch to order menu Price range Aggregate rating  \\\n",
       "0                No                   No           3              4.8   \n",
       "1                No                   No           3              4.5   \n",
       "\n",
       "   Rating color  Rating text Votes      Country  \n",
       "0    Dark Green    Excellent   314  Phillipines  \n",
       "1    Dark Green    Excellent   591  Phillipines  \n",
       "\n",
       "[2 rows x 22 columns]"
      ]
     },
     "execution_count": 6,
     "metadata": {},
     "output_type": "execute_result"
    }
   ],
   "source": [
    "df2=pd.merge(df,df1,on=\"Country Code\",how=\"left\")\n",
    "df2.head(2)\n",
    "# so we added df1 in df in a new dataframe df2 in left merging"
   ]
  },
  {
   "cell_type": "markdown",
   "id": "6e72c444",
   "metadata": {
    "papermill": {
     "duration": 0.008673,
     "end_time": "2023-04-11T11:54:24.448106",
     "exception": false,
     "start_time": "2023-04-11T11:54:24.439433",
     "status": "completed"
    },
    "tags": []
   },
   "source": [
    "**REGIONAL ANALYSIS**"
   ]
  },
  {
   "cell_type": "code",
   "execution_count": 7,
   "id": "04f62599",
   "metadata": {
    "execution": {
     "iopub.execute_input": "2023-04-11T11:54:24.468062Z",
     "iopub.status.busy": "2023-04-11T11:54:24.466980Z",
     "iopub.status.idle": "2023-04-11T11:54:24.475695Z",
     "shell.execute_reply": "2023-04-11T11:54:24.474278Z"
    },
    "papermill": {
     "duration": 0.021019,
     "end_time": "2023-04-11T11:54:24.477879",
     "exception": false,
     "start_time": "2023-04-11T11:54:24.456860",
     "status": "completed"
    },
    "tags": []
   },
   "outputs": [
    {
     "name": "stdout",
     "output_type": "stream",
     "text": [
      "List of countries in data set: \n",
      "Phillipines\n",
      "Brazil\n",
      "United States\n",
      "Australia\n",
      "Canada\n",
      "Singapore\n",
      "UAE\n",
      "India\n",
      "Indonesia\n",
      "New Zealand\n",
      "United Kingdom\n",
      "Qatar\n",
      "South Africa\n",
      "Sri Lanka\n",
      "Turkey\n",
      "Total number of countries in dataset:  15\n"
     ]
    }
   ],
   "source": [
    "print(\"List of countries in data set: \")\n",
    "for x in pd.unique(df2.Country):\n",
    "    print(x)\n",
    "print(\"Total number of countries in dataset: \",len(pd.unique(df2.Country)))"
   ]
  },
  {
   "cell_type": "code",
   "execution_count": 8,
   "id": "89d615f8",
   "metadata": {
    "execution": {
     "iopub.execute_input": "2023-04-11T11:54:24.496943Z",
     "iopub.status.busy": "2023-04-11T11:54:24.496451Z",
     "iopub.status.idle": "2023-04-11T11:54:36.995306Z",
     "shell.execute_reply": "2023-04-11T11:54:36.994128Z"
    },
    "papermill": {
     "duration": 12.511514,
     "end_time": "2023-04-11T11:54:36.998179",
     "exception": false,
     "start_time": "2023-04-11T11:54:24.486665",
     "status": "completed"
    },
    "tags": []
   },
   "outputs": [
    {
     "name": "stdout",
     "output_type": "stream",
     "text": [
      "Requirement already satisfied: plotly in /opt/conda/lib/python3.7/site-packages (5.10.0)\r\n",
      "Requirement already satisfied: tenacity>=6.2.0 in /opt/conda/lib/python3.7/site-packages (from plotly) (8.0.1)\r\n",
      "\u001b[33mWARNING: Running pip as the 'root' user can result in broken permissions and conflicting behaviour with the system package manager. It is recommended to use a virtual environment instead: https://pip.pypa.io/warnings/venv\u001b[0m\u001b[33m\r\n",
      "\u001b[0m"
     ]
    }
   ],
   "source": [
    "!pip install plotly"
   ]
  },
  {
   "cell_type": "markdown",
   "id": "e54f2da5",
   "metadata": {
    "papermill": {
     "duration": 0.008765,
     "end_time": "2023-04-11T11:54:37.016265",
     "exception": false,
     "start_time": "2023-04-11T11:54:37.007500",
     "status": "completed"
    },
    "tags": []
   },
   "source": [
    "The plotly Python library is an interactive, open-source plotting library that supports over 40 unique chart types covering a wide range of statistical, financial, geographic, scientific, and 3-dimensional use-cases. Kaggle provied inbuilt plotly but if u r working in jupyter notebook we have to pip install plotly "
   ]
  },
  {
   "cell_type": "code",
   "execution_count": 9,
   "id": "d21bdc5c",
   "metadata": {
    "execution": {
     "iopub.execute_input": "2023-04-11T11:54:37.036568Z",
     "iopub.status.busy": "2023-04-11T11:54:37.036173Z",
     "iopub.status.idle": "2023-04-11T11:54:39.133012Z",
     "shell.execute_reply": "2023-04-11T11:54:39.131878Z"
    },
    "papermill": {
     "duration": 2.110106,
     "end_time": "2023-04-11T11:54:39.135311",
     "exception": false,
     "start_time": "2023-04-11T11:54:37.025205",
     "status": "completed"
    },
    "tags": []
   },
   "outputs": [
    {
     "data": {
      "text/html": [
       "        <script type=\"text/javascript\">\n",
       "        window.PlotlyConfig = {MathJaxConfig: 'local'};\n",
       "        if (window.MathJax && window.MathJax.Hub && window.MathJax.Hub.Config) {window.MathJax.Hub.Config({SVG: {font: \"STIX-Web\"}});}\n",
       "        if (typeof require !== 'undefined') {\n",
       "        require.undef(\"plotly\");\n",
       "        requirejs.config({\n",
       "            paths: {\n",
       "                'plotly': ['https://cdn.plot.ly/plotly-2.14.0.min']\n",
       "            }\n",
       "        });\n",
       "        require(['plotly'], function(Plotly) {\n",
       "            window._Plotly = Plotly;\n",
       "        });\n",
       "        }\n",
       "        </script>\n",
       "        "
      ]
     },
     "metadata": {},
     "output_type": "display_data"
    },
    {
     "data": {
      "text/html": [
       "<div>                            <div id=\"9fffc1d1-69fa-49e3-b91b-3dc25979427d\" class=\"plotly-graph-div\" style=\"height:525px; width:100%;\"></div>            <script type=\"text/javascript\">                require([\"plotly\"], function(Plotly) {                    window.PLOTLYENV=window.PLOTLYENV || {};                                    if (document.getElementById(\"9fffc1d1-69fa-49e3-b91b-3dc25979427d\")) {                    Plotly.newPlot(                        \"9fffc1d1-69fa-49e3-b91b-3dc25979427d\",                        [{\"domain\":{\"x\":[0,0.9]},\"hole\":0.6,\"hoverinfo\":\"label+percent\",\"labels\":[\"India\",\"United States\",\"United Kingdom\",\"Brazil\",\"UAE\",\"South Africa\",\"New Zealand\",\"Turkey\",\"Australia\",\"Phillipines\",\"Indonesia\",\"Singapore\",\"Qatar\",\"Sri Lanka\",\"Canada\"],\"rotation\":120,\"values\":[8652,434,80,60,60,60,40,34,24,22,21,20,20,20,4],\"type\":\"pie\"}],                        {\"annotations\":[{\"font\":{\"size\":20},\"showarrow\":true,\"text\":\"Countries\",\"x\":0.2,\"y\":0.9}],\"template\":{\"data\":{\"barpolar\":[{\"marker\":{\"line\":{\"color\":\"#E5ECF6\",\"width\":0.5},\"pattern\":{\"fillmode\":\"overlay\",\"size\":10,\"solidity\":0.2}},\"type\":\"barpolar\"}],\"bar\":[{\"error_x\":{\"color\":\"#2a3f5f\"},\"error_y\":{\"color\":\"#2a3f5f\"},\"marker\":{\"line\":{\"color\":\"#E5ECF6\",\"width\":0.5},\"pattern\":{\"fillmode\":\"overlay\",\"size\":10,\"solidity\":0.2}},\"type\":\"bar\"}],\"carpet\":[{\"aaxis\":{\"endlinecolor\":\"#2a3f5f\",\"gridcolor\":\"white\",\"linecolor\":\"white\",\"minorgridcolor\":\"white\",\"startlinecolor\":\"#2a3f5f\"},\"baxis\":{\"endlinecolor\":\"#2a3f5f\",\"gridcolor\":\"white\",\"linecolor\":\"white\",\"minorgridcolor\":\"white\",\"startlinecolor\":\"#2a3f5f\"},\"type\":\"carpet\"}],\"choropleth\":[{\"colorbar\":{\"outlinewidth\":0,\"ticks\":\"\"},\"type\":\"choropleth\"}],\"contourcarpet\":[{\"colorbar\":{\"outlinewidth\":0,\"ticks\":\"\"},\"type\":\"contourcarpet\"}],\"contour\":[{\"colorbar\":{\"outlinewidth\":0,\"ticks\":\"\"},\"colorscale\":[[0.0,\"#0d0887\"],[0.1111111111111111,\"#46039f\"],[0.2222222222222222,\"#7201a8\"],[0.3333333333333333,\"#9c179e\"],[0.4444444444444444,\"#bd3786\"],[0.5555555555555556,\"#d8576b\"],[0.6666666666666666,\"#ed7953\"],[0.7777777777777778,\"#fb9f3a\"],[0.8888888888888888,\"#fdca26\"],[1.0,\"#f0f921\"]],\"type\":\"contour\"}],\"heatmapgl\":[{\"colorbar\":{\"outlinewidth\":0,\"ticks\":\"\"},\"colorscale\":[[0.0,\"#0d0887\"],[0.1111111111111111,\"#46039f\"],[0.2222222222222222,\"#7201a8\"],[0.3333333333333333,\"#9c179e\"],[0.4444444444444444,\"#bd3786\"],[0.5555555555555556,\"#d8576b\"],[0.6666666666666666,\"#ed7953\"],[0.7777777777777778,\"#fb9f3a\"],[0.8888888888888888,\"#fdca26\"],[1.0,\"#f0f921\"]],\"type\":\"heatmapgl\"}],\"heatmap\":[{\"colorbar\":{\"outlinewidth\":0,\"ticks\":\"\"},\"colorscale\":[[0.0,\"#0d0887\"],[0.1111111111111111,\"#46039f\"],[0.2222222222222222,\"#7201a8\"],[0.3333333333333333,\"#9c179e\"],[0.4444444444444444,\"#bd3786\"],[0.5555555555555556,\"#d8576b\"],[0.6666666666666666,\"#ed7953\"],[0.7777777777777778,\"#fb9f3a\"],[0.8888888888888888,\"#fdca26\"],[1.0,\"#f0f921\"]],\"type\":\"heatmap\"}],\"histogram2dcontour\":[{\"colorbar\":{\"outlinewidth\":0,\"ticks\":\"\"},\"colorscale\":[[0.0,\"#0d0887\"],[0.1111111111111111,\"#46039f\"],[0.2222222222222222,\"#7201a8\"],[0.3333333333333333,\"#9c179e\"],[0.4444444444444444,\"#bd3786\"],[0.5555555555555556,\"#d8576b\"],[0.6666666666666666,\"#ed7953\"],[0.7777777777777778,\"#fb9f3a\"],[0.8888888888888888,\"#fdca26\"],[1.0,\"#f0f921\"]],\"type\":\"histogram2dcontour\"}],\"histogram2d\":[{\"colorbar\":{\"outlinewidth\":0,\"ticks\":\"\"},\"colorscale\":[[0.0,\"#0d0887\"],[0.1111111111111111,\"#46039f\"],[0.2222222222222222,\"#7201a8\"],[0.3333333333333333,\"#9c179e\"],[0.4444444444444444,\"#bd3786\"],[0.5555555555555556,\"#d8576b\"],[0.6666666666666666,\"#ed7953\"],[0.7777777777777778,\"#fb9f3a\"],[0.8888888888888888,\"#fdca26\"],[1.0,\"#f0f921\"]],\"type\":\"histogram2d\"}],\"histogram\":[{\"marker\":{\"pattern\":{\"fillmode\":\"overlay\",\"size\":10,\"solidity\":0.2}},\"type\":\"histogram\"}],\"mesh3d\":[{\"colorbar\":{\"outlinewidth\":0,\"ticks\":\"\"},\"type\":\"mesh3d\"}],\"parcoords\":[{\"line\":{\"colorbar\":{\"outlinewidth\":0,\"ticks\":\"\"}},\"type\":\"parcoords\"}],\"pie\":[{\"automargin\":true,\"type\":\"pie\"}],\"scatter3d\":[{\"line\":{\"colorbar\":{\"outlinewidth\":0,\"ticks\":\"\"}},\"marker\":{\"colorbar\":{\"outlinewidth\":0,\"ticks\":\"\"}},\"type\":\"scatter3d\"}],\"scattercarpet\":[{\"marker\":{\"colorbar\":{\"outlinewidth\":0,\"ticks\":\"\"}},\"type\":\"scattercarpet\"}],\"scattergeo\":[{\"marker\":{\"colorbar\":{\"outlinewidth\":0,\"ticks\":\"\"}},\"type\":\"scattergeo\"}],\"scattergl\":[{\"marker\":{\"colorbar\":{\"outlinewidth\":0,\"ticks\":\"\"}},\"type\":\"scattergl\"}],\"scattermapbox\":[{\"marker\":{\"colorbar\":{\"outlinewidth\":0,\"ticks\":\"\"}},\"type\":\"scattermapbox\"}],\"scatterpolargl\":[{\"marker\":{\"colorbar\":{\"outlinewidth\":0,\"ticks\":\"\"}},\"type\":\"scatterpolargl\"}],\"scatterpolar\":[{\"marker\":{\"colorbar\":{\"outlinewidth\":0,\"ticks\":\"\"}},\"type\":\"scatterpolar\"}],\"scatter\":[{\"fillpattern\":{\"fillmode\":\"overlay\",\"size\":10,\"solidity\":0.2},\"type\":\"scatter\"}],\"scatterternary\":[{\"marker\":{\"colorbar\":{\"outlinewidth\":0,\"ticks\":\"\"}},\"type\":\"scatterternary\"}],\"surface\":[{\"colorbar\":{\"outlinewidth\":0,\"ticks\":\"\"},\"colorscale\":[[0.0,\"#0d0887\"],[0.1111111111111111,\"#46039f\"],[0.2222222222222222,\"#7201a8\"],[0.3333333333333333,\"#9c179e\"],[0.4444444444444444,\"#bd3786\"],[0.5555555555555556,\"#d8576b\"],[0.6666666666666666,\"#ed7953\"],[0.7777777777777778,\"#fb9f3a\"],[0.8888888888888888,\"#fdca26\"],[1.0,\"#f0f921\"]],\"type\":\"surface\"}],\"table\":[{\"cells\":{\"fill\":{\"color\":\"#EBF0F8\"},\"line\":{\"color\":\"white\"}},\"header\":{\"fill\":{\"color\":\"#C8D4E3\"},\"line\":{\"color\":\"white\"}},\"type\":\"table\"}]},\"layout\":{\"annotationdefaults\":{\"arrowcolor\":\"#2a3f5f\",\"arrowhead\":0,\"arrowwidth\":1},\"autotypenumbers\":\"strict\",\"coloraxis\":{\"colorbar\":{\"outlinewidth\":0,\"ticks\":\"\"}},\"colorscale\":{\"diverging\":[[0,\"#8e0152\"],[0.1,\"#c51b7d\"],[0.2,\"#de77ae\"],[0.3,\"#f1b6da\"],[0.4,\"#fde0ef\"],[0.5,\"#f7f7f7\"],[0.6,\"#e6f5d0\"],[0.7,\"#b8e186\"],[0.8,\"#7fbc41\"],[0.9,\"#4d9221\"],[1,\"#276419\"]],\"sequential\":[[0.0,\"#0d0887\"],[0.1111111111111111,\"#46039f\"],[0.2222222222222222,\"#7201a8\"],[0.3333333333333333,\"#9c179e\"],[0.4444444444444444,\"#bd3786\"],[0.5555555555555556,\"#d8576b\"],[0.6666666666666666,\"#ed7953\"],[0.7777777777777778,\"#fb9f3a\"],[0.8888888888888888,\"#fdca26\"],[1.0,\"#f0f921\"]],\"sequentialminus\":[[0.0,\"#0d0887\"],[0.1111111111111111,\"#46039f\"],[0.2222222222222222,\"#7201a8\"],[0.3333333333333333,\"#9c179e\"],[0.4444444444444444,\"#bd3786\"],[0.5555555555555556,\"#d8576b\"],[0.6666666666666666,\"#ed7953\"],[0.7777777777777778,\"#fb9f3a\"],[0.8888888888888888,\"#fdca26\"],[1.0,\"#f0f921\"]]},\"colorway\":[\"#636efa\",\"#EF553B\",\"#00cc96\",\"#ab63fa\",\"#FFA15A\",\"#19d3f3\",\"#FF6692\",\"#B6E880\",\"#FF97FF\",\"#FECB52\"],\"font\":{\"color\":\"#2a3f5f\"},\"geo\":{\"bgcolor\":\"white\",\"lakecolor\":\"white\",\"landcolor\":\"#E5ECF6\",\"showlakes\":true,\"showland\":true,\"subunitcolor\":\"white\"},\"hoverlabel\":{\"align\":\"left\"},\"hovermode\":\"closest\",\"mapbox\":{\"style\":\"light\"},\"paper_bgcolor\":\"white\",\"plot_bgcolor\":\"#E5ECF6\",\"polar\":{\"angularaxis\":{\"gridcolor\":\"white\",\"linecolor\":\"white\",\"ticks\":\"\"},\"bgcolor\":\"#E5ECF6\",\"radialaxis\":{\"gridcolor\":\"white\",\"linecolor\":\"white\",\"ticks\":\"\"}},\"scene\":{\"xaxis\":{\"backgroundcolor\":\"#E5ECF6\",\"gridcolor\":\"white\",\"gridwidth\":2,\"linecolor\":\"white\",\"showbackground\":true,\"ticks\":\"\",\"zerolinecolor\":\"white\"},\"yaxis\":{\"backgroundcolor\":\"#E5ECF6\",\"gridcolor\":\"white\",\"gridwidth\":2,\"linecolor\":\"white\",\"showbackground\":true,\"ticks\":\"\",\"zerolinecolor\":\"white\"},\"zaxis\":{\"backgroundcolor\":\"#E5ECF6\",\"gridcolor\":\"white\",\"gridwidth\":2,\"linecolor\":\"white\",\"showbackground\":true,\"ticks\":\"\",\"zerolinecolor\":\"white\"}},\"shapedefaults\":{\"line\":{\"color\":\"#2a3f5f\"}},\"ternary\":{\"aaxis\":{\"gridcolor\":\"white\",\"linecolor\":\"white\",\"ticks\":\"\"},\"baxis\":{\"gridcolor\":\"white\",\"linecolor\":\"white\",\"ticks\":\"\"},\"bgcolor\":\"#E5ECF6\",\"caxis\":{\"gridcolor\":\"white\",\"linecolor\":\"white\",\"ticks\":\"\"}},\"title\":{\"x\":0.05},\"xaxis\":{\"automargin\":true,\"gridcolor\":\"white\",\"linecolor\":\"white\",\"ticks\":\"\",\"title\":{\"standoff\":15},\"zerolinecolor\":\"white\",\"zerolinewidth\":2},\"yaxis\":{\"automargin\":true,\"gridcolor\":\"white\",\"linecolor\":\"white\",\"ticks\":\"\",\"title\":{\"standoff\":15},\"zerolinecolor\":\"white\",\"zerolinewidth\":2}}},\"title\":{\"text\":\"Restaurants Density Presence around the World\"}},                        {\"responsive\": true}                    ).then(function(){\n",
       "                            \n",
       "var gd = document.getElementById('9fffc1d1-69fa-49e3-b91b-3dc25979427d');\n",
       "var x = new MutationObserver(function (mutations, observer) {{\n",
       "        var display = window.getComputedStyle(gd).display;\n",
       "        if (!display || display === 'none') {{\n",
       "            console.log([gd, 'removed!']);\n",
       "            Plotly.purge(gd);\n",
       "            observer.disconnect();\n",
       "        }}\n",
       "}});\n",
       "\n",
       "// Listen for the removal of the full notebook cells\n",
       "var notebookContainer = gd.closest('#notebook-container');\n",
       "if (notebookContainer) {{\n",
       "    x.observe(notebookContainer, {childList: true});\n",
       "}}\n",
       "\n",
       "// Listen for the clearing of the current output cell\n",
       "var outputEl = gd.closest('.output');\n",
       "if (outputEl) {{\n",
       "    x.observe(outputEl, {childList: true});\n",
       "}}\n",
       "\n",
       "                        })                };                });            </script>        </div>"
      ]
     },
     "metadata": {},
     "output_type": "display_data"
    }
   ],
   "source": [
    "# making pie chart for country wise distributuion\n",
    "import plotly.express as px\n",
    "from plotly.offline import init_notebook_mode, plot, iplot\n",
    "\n",
    "labels = list(df2.Country.value_counts().index)\n",
    "values = list(df2.Country.value_counts().values)\n",
    "# labels gives names and values gives count\n",
    "fig = {\n",
    "    \"data\":[\n",
    "        {\n",
    "            \"labels\" : labels,\n",
    "            \"values\" : values,\n",
    "            \"hoverinfo\" : 'label+percent',\n",
    "            \"domain\": {\"x\": [0, .9]},\n",
    "            \"hole\" : 0.6,\n",
    "            \"type\" : \"pie\",\n",
    "            \"rotation\":120,\n",
    "        },\n",
    "    ],\n",
    "    \"layout\": {\n",
    "        \"title\" : \"Restaurants Density Presence around the World\",\n",
    "        \"annotations\": [\n",
    "            {\n",
    "                \"font\": {\"size\":20},\n",
    "                \"showarrow\": True,\n",
    "                \"text\": \"Countries\",\n",
    "                \"x\":0.2,\n",
    "                \"y\":0.9,\n",
    "            },\n",
    "        ]\n",
    "    }\n",
    "}\n",
    "\n",
    "iplot(fig)"
   ]
  },
  {
   "cell_type": "markdown",
   "id": "6e1b20c1",
   "metadata": {
    "papermill": {
     "duration": 0.009229,
     "end_time": "2023-04-11T11:54:39.154088",
     "exception": false,
     "start_time": "2023-04-11T11:54:39.144859",
     "status": "completed"
    },
    "tags": []
   },
   "source": [
    "from here we can understand that major buisness requirements are to be fullfilled in India and why India is the major area of concern for any startup focused in restaurants servicing and food delivering services. **so we can shift our analysis to INDIA later**"
   ]
  },
  {
   "cell_type": "markdown",
   "id": "7a9826cf",
   "metadata": {
    "papermill": {
     "duration": 0.008947,
     "end_time": "2023-04-11T11:54:39.172742",
     "exception": false,
     "start_time": "2023-04-11T11:54:39.163795",
     "status": "completed"
    },
    "tags": []
   },
   "source": [
    "**Analysis on Rating , color, Text**"
   ]
  },
  {
   "cell_type": "code",
   "execution_count": 10,
   "id": "c5270876",
   "metadata": {
    "execution": {
     "iopub.execute_input": "2023-04-11T11:54:39.193245Z",
     "iopub.status.busy": "2023-04-11T11:54:39.192840Z",
     "iopub.status.idle": "2023-04-11T11:54:39.216004Z",
     "shell.execute_reply": "2023-04-11T11:54:39.214845Z"
    },
    "papermill": {
     "duration": 0.036347,
     "end_time": "2023-04-11T11:54:39.218398",
     "exception": false,
     "start_time": "2023-04-11T11:54:39.182051",
     "status": "completed"
    },
    "tags": []
   },
   "outputs": [
    {
     "data": {
      "text/html": [
       "<div>\n",
       "<style scoped>\n",
       "    .dataframe tbody tr th:only-of-type {\n",
       "        vertical-align: middle;\n",
       "    }\n",
       "\n",
       "    .dataframe tbody tr th {\n",
       "        vertical-align: top;\n",
       "    }\n",
       "\n",
       "    .dataframe thead th {\n",
       "        text-align: right;\n",
       "    }\n",
       "</style>\n",
       "<table border=\"1\" class=\"dataframe\">\n",
       "  <thead>\n",
       "    <tr style=\"text-align: right;\">\n",
       "      <th></th>\n",
       "      <th>Aggregate rating</th>\n",
       "      <th>Rating color</th>\n",
       "      <th>Rating text</th>\n",
       "      <th>Rating Count</th>\n",
       "    </tr>\n",
       "  </thead>\n",
       "  <tbody>\n",
       "    <tr>\n",
       "      <th>0</th>\n",
       "      <td>0.0</td>\n",
       "      <td>White</td>\n",
       "      <td>Not rated</td>\n",
       "      <td>2148</td>\n",
       "    </tr>\n",
       "    <tr>\n",
       "      <th>1</th>\n",
       "      <td>1.8</td>\n",
       "      <td>Red</td>\n",
       "      <td>Poor</td>\n",
       "      <td>1</td>\n",
       "    </tr>\n",
       "    <tr>\n",
       "      <th>2</th>\n",
       "      <td>1.9</td>\n",
       "      <td>Red</td>\n",
       "      <td>Poor</td>\n",
       "      <td>2</td>\n",
       "    </tr>\n",
       "    <tr>\n",
       "      <th>3</th>\n",
       "      <td>2.0</td>\n",
       "      <td>Red</td>\n",
       "      <td>Poor</td>\n",
       "      <td>7</td>\n",
       "    </tr>\n",
       "    <tr>\n",
       "      <th>4</th>\n",
       "      <td>2.1</td>\n",
       "      <td>Red</td>\n",
       "      <td>Poor</td>\n",
       "      <td>15</td>\n",
       "    </tr>\n",
       "  </tbody>\n",
       "</table>\n",
       "</div>"
      ],
      "text/plain": [
       "   Aggregate rating Rating color Rating text  Rating Count\n",
       "0               0.0        White   Not rated          2148\n",
       "1               1.8          Red        Poor             1\n",
       "2               1.9          Red        Poor             2\n",
       "3               2.0          Red        Poor             7\n",
       "4               2.1          Red        Poor            15"
      ]
     },
     "execution_count": 10,
     "metadata": {},
     "output_type": "execute_result"
    }
   ],
   "source": [
    "df3=df2.groupby(['Aggregate rating','Rating color','Rating text']).size().reset_index().rename(columns={0:\"Rating Count\"})\n",
    "df3.head()"
   ]
  },
  {
   "cell_type": "markdown",
   "id": "39e852d7",
   "metadata": {
    "papermill": {
     "duration": 0.009505,
     "end_time": "2023-04-11T11:54:39.237698",
     "exception": false,
     "start_time": "2023-04-11T11:54:39.228193",
     "status": "completed"
    },
    "tags": []
   },
   "source": [
    "so here we can understand ratings criteria and their code and text relationship for example white ones are not rated , red ones are poor rating restaurants. \n",
    "* Rating 0 — White — Not rated \n",
    "* Rating 1.8 to 2.4 — Red — Poor \n",
    "* Rating 2.5 to 3.4 — Orange — Average \n",
    "* Rating 3.5 to 3.9 — Yellow — Good \n",
    "* Rating 4.0 to 4.4 — Green — Very Good \n",
    "* Rating 4.5 to 4.9 — Dark Green — Excellent"
   ]
  },
  {
   "cell_type": "code",
   "execution_count": 11,
   "id": "292b34ab",
   "metadata": {
    "execution": {
     "iopub.execute_input": "2023-04-11T11:54:39.259052Z",
     "iopub.status.busy": "2023-04-11T11:54:39.258610Z",
     "iopub.status.idle": "2023-04-11T11:54:39.265963Z",
     "shell.execute_reply": "2023-04-11T11:54:39.265131Z"
    },
    "papermill": {
     "duration": 0.020843,
     "end_time": "2023-04-11T11:54:39.268368",
     "exception": false,
     "start_time": "2023-04-11T11:54:39.247525",
     "status": "completed"
    },
    "tags": []
   },
   "outputs": [],
   "source": [
    "import seaborn as sns\n",
    "sns.set_style(\"darkgrid\")\n",
    "import matplotlib.pyplot as plt\n",
    "%matplotlib inline"
   ]
  },
  {
   "cell_type": "markdown",
   "id": "0cf763b8",
   "metadata": {
    "papermill": {
     "duration": 0.00921,
     "end_time": "2023-04-11T11:54:39.287525",
     "exception": false,
     "start_time": "2023-04-11T11:54:39.278315",
     "status": "completed"
    },
    "tags": []
   },
   "source": [
    "**Rating counts from DF3 dataframe we build above**"
   ]
  },
  {
   "cell_type": "code",
   "execution_count": 12,
   "id": "ef02079f",
   "metadata": {
    "execution": {
     "iopub.execute_input": "2023-04-11T11:54:39.308362Z",
     "iopub.status.busy": "2023-04-11T11:54:39.307701Z",
     "iopub.status.idle": "2023-04-11T11:54:39.725457Z",
     "shell.execute_reply": "2023-04-11T11:54:39.724080Z"
    },
    "papermill": {
     "duration": 0.431744,
     "end_time": "2023-04-11T11:54:39.728743",
     "exception": false,
     "start_time": "2023-04-11T11:54:39.296999",
     "status": "completed"
    },
    "tags": []
   },
   "outputs": [
    {
     "data": {
      "image/png": "[encoded data removed]",
      "text/plain": [
       "<Figure size 864x432 with 1 Axes>"
      ]
     },
     "metadata": {
      "needs_background": "light"
     },
     "output_type": "display_data"
    }
   ],
   "source": [
    "plt.figure(figsize=(12,6))\n",
    "# plt.xticks(rotation=75)\n",
    "plt.title('Rating Color')\n",
    "sns.barplot(x=df3['Rating color'], y=df3['Rating Count']);"
   ]
  },
  {
   "cell_type": "markdown",
   "id": "f898bd01",
   "metadata": {
    "papermill": {
     "duration": 0.013837,
     "end_time": "2023-04-11T11:54:39.754142",
     "exception": false,
     "start_time": "2023-04-11T11:54:39.740305",
     "status": "completed"
    },
    "tags": []
   },
   "source": [
    "Most of the restaurants are non rated so reason could be they are not exposed to online rating system or actually not that popular "
   ]
  },
  {
   "cell_type": "markdown",
   "id": "6a35ede1",
   "metadata": {
    "papermill": {
     "duration": 0.009564,
     "end_time": "2023-04-11T11:54:39.774031",
     "exception": false,
     "start_time": "2023-04-11T11:54:39.764467",
     "status": "completed"
    },
    "tags": []
   },
   "source": [
    "Countries having maximum white rating or non rated restaurants"
   ]
  },
  {
   "cell_type": "code",
   "execution_count": 13,
   "id": "578de12a",
   "metadata": {
    "execution": {
     "iopub.execute_input": "2023-04-11T11:54:39.795548Z",
     "iopub.status.busy": "2023-04-11T11:54:39.794931Z",
     "iopub.status.idle": "2023-04-11T11:54:39.814344Z",
     "shell.execute_reply": "2023-04-11T11:54:39.813213Z"
    },
    "papermill": {
     "duration": 0.032686,
     "end_time": "2023-04-11T11:54:39.816493",
     "exception": false,
     "start_time": "2023-04-11T11:54:39.783807",
     "status": "completed"
    },
    "tags": []
   },
   "outputs": [
    {
     "data": {
      "text/html": [
       "<div>\n",
       "<style scoped>\n",
       "    .dataframe tbody tr th:only-of-type {\n",
       "        vertical-align: middle;\n",
       "    }\n",
       "\n",
       "    .dataframe tbody tr th {\n",
       "        vertical-align: top;\n",
       "    }\n",
       "\n",
       "    .dataframe thead th {\n",
       "        text-align: right;\n",
       "    }\n",
       "</style>\n",
       "<table border=\"1\" class=\"dataframe\">\n",
       "  <thead>\n",
       "    <tr style=\"text-align: right;\">\n",
       "      <th></th>\n",
       "      <th>Country</th>\n",
       "      <th>Rating count</th>\n",
       "    </tr>\n",
       "  </thead>\n",
       "  <tbody>\n",
       "    <tr>\n",
       "      <th>0</th>\n",
       "      <td>Brazil</td>\n",
       "      <td>5</td>\n",
       "    </tr>\n",
       "    <tr>\n",
       "      <th>1</th>\n",
       "      <td>India</td>\n",
       "      <td>2139</td>\n",
       "    </tr>\n",
       "    <tr>\n",
       "      <th>2</th>\n",
       "      <td>United Kingdom</td>\n",
       "      <td>1</td>\n",
       "    </tr>\n",
       "    <tr>\n",
       "      <th>3</th>\n",
       "      <td>United States</td>\n",
       "      <td>3</td>\n",
       "    </tr>\n",
       "  </tbody>\n",
       "</table>\n",
       "</div>"
      ],
      "text/plain": [
       "          Country  Rating count\n",
       "0          Brazil             5\n",
       "1           India          2139\n",
       "2  United Kingdom             1\n",
       "3   United States             3"
      ]
     },
     "execution_count": 13,
     "metadata": {},
     "output_type": "execute_result"
    }
   ],
   "source": [
    "no_rating=df2[df2[\"Rating color\"]==\"White\"].groupby(\"Country\").size().reset_index().rename(columns={0:\"Rating count\"})\n",
    "no_rating"
   ]
  },
  {
   "cell_type": "markdown",
   "id": "ba107bfc",
   "metadata": {
    "papermill": {
     "duration": 0.009677,
     "end_time": "2023-04-11T11:54:39.836284",
     "exception": false,
     "start_time": "2023-04-11T11:54:39.826607",
     "status": "completed"
    },
    "tags": []
   },
   "source": [
    "**We shift our EDA to INDIA** by creating a new dataframe named res_india(restaurants in India)"
   ]
  },
  {
   "cell_type": "code",
   "execution_count": 14,
   "id": "4529a96d",
   "metadata": {
    "execution": {
     "iopub.execute_input": "2023-04-11T11:54:39.858219Z",
     "iopub.status.busy": "2023-04-11T11:54:39.857386Z",
     "iopub.status.idle": "2023-04-11T11:54:39.885589Z",
     "shell.execute_reply": "2023-04-11T11:54:39.884666Z"
    },
    "papermill": {
     "duration": 0.041473,
     "end_time": "2023-04-11T11:54:39.887684",
     "exception": false,
     "start_time": "2023-04-11T11:54:39.846211",
     "status": "completed"
    },
    "tags": []
   },
   "outputs": [
    {
     "data": {
      "text/html": [
       "<div>\n",
       "<style scoped>\n",
       "    .dataframe tbody tr th:only-of-type {\n",
       "        vertical-align: middle;\n",
       "    }\n",
       "\n",
       "    .dataframe tbody tr th {\n",
       "        vertical-align: top;\n",
       "    }\n",
       "\n",
       "    .dataframe thead th {\n",
       "        text-align: right;\n",
       "    }\n",
       "</style>\n",
       "<table border=\"1\" class=\"dataframe\">\n",
       "  <thead>\n",
       "    <tr style=\"text-align: right;\">\n",
       "      <th></th>\n",
       "      <th>Restaurant ID</th>\n",
       "      <th>Restaurant Name</th>\n",
       "      <th>Country Code</th>\n",
       "      <th>City</th>\n",
       "      <th>Address</th>\n",
       "      <th>Locality</th>\n",
       "      <th>Locality Verbose</th>\n",
       "      <th>Longitude</th>\n",
       "      <th>Latitude</th>\n",
       "      <th>Cuisines</th>\n",
       "      <th>...</th>\n",
       "      <th>Has Table booking</th>\n",
       "      <th>Has Online delivery</th>\n",
       "      <th>Is delivering now</th>\n",
       "      <th>Switch to order menu</th>\n",
       "      <th>Price range</th>\n",
       "      <th>Aggregate rating</th>\n",
       "      <th>Rating color</th>\n",
       "      <th>Rating text</th>\n",
       "      <th>Votes</th>\n",
       "      <th>Country</th>\n",
       "    </tr>\n",
       "  </thead>\n",
       "  <tbody>\n",
       "    <tr>\n",
       "      <th>624</th>\n",
       "      <td>3400025</td>\n",
       "      <td>Jahanpanah</td>\n",
       "      <td>1</td>\n",
       "      <td>Agra</td>\n",
       "      <td>E 23, Shopping Arcade, Sadar Bazaar, Agra Cant...</td>\n",
       "      <td>Agra Cantt</td>\n",
       "      <td>Agra Cantt, Agra</td>\n",
       "      <td>78.011544</td>\n",
       "      <td>27.161661</td>\n",
       "      <td>North Indian, Mughlai</td>\n",
       "      <td>...</td>\n",
       "      <td>No</td>\n",
       "      <td>No</td>\n",
       "      <td>No</td>\n",
       "      <td>No</td>\n",
       "      <td>3</td>\n",
       "      <td>3.9</td>\n",
       "      <td>Yellow</td>\n",
       "      <td>Good</td>\n",
       "      <td>140</td>\n",
       "      <td>India</td>\n",
       "    </tr>\n",
       "    <tr>\n",
       "      <th>625</th>\n",
       "      <td>3400341</td>\n",
       "      <td>Rangrezz Restaurant</td>\n",
       "      <td>1</td>\n",
       "      <td>Agra</td>\n",
       "      <td>E-20, Shopping Arcade, Sadar Bazaar, Agra Cant...</td>\n",
       "      <td>Agra Cantt</td>\n",
       "      <td>Agra Cantt, Agra</td>\n",
       "      <td>0.000000</td>\n",
       "      <td>0.000000</td>\n",
       "      <td>North Indian, Mughlai</td>\n",
       "      <td>...</td>\n",
       "      <td>No</td>\n",
       "      <td>No</td>\n",
       "      <td>No</td>\n",
       "      <td>No</td>\n",
       "      <td>2</td>\n",
       "      <td>3.5</td>\n",
       "      <td>Yellow</td>\n",
       "      <td>Good</td>\n",
       "      <td>71</td>\n",
       "      <td>India</td>\n",
       "    </tr>\n",
       "  </tbody>\n",
       "</table>\n",
       "<p>2 rows × 22 columns</p>\n",
       "</div>"
      ],
      "text/plain": [
       "     Restaurant ID      Restaurant Name  Country Code  City  \\\n",
       "624        3400025           Jahanpanah             1  Agra   \n",
       "625        3400341  Rangrezz Restaurant             1  Agra   \n",
       "\n",
       "                                               Address    Locality  \\\n",
       "624  E 23, Shopping Arcade, Sadar Bazaar, Agra Cant...  Agra Cantt   \n",
       "625  E-20, Shopping Arcade, Sadar Bazaar, Agra Cant...  Agra Cantt   \n",
       "\n",
       "     Locality Verbose  Longitude   Latitude               Cuisines  ...  \\\n",
       "624  Agra Cantt, Agra  78.011544  27.161661  North Indian, Mughlai  ...   \n",
       "625  Agra Cantt, Agra   0.000000   0.000000  North Indian, Mughlai  ...   \n",
       "\n",
       "     Has Table booking Has Online delivery Is delivering now  \\\n",
       "624                 No                  No                No   \n",
       "625                 No                  No                No   \n",
       "\n",
       "    Switch to order menu Price range Aggregate rating  Rating color  \\\n",
       "624                   No           3              3.9        Yellow   \n",
       "625                   No           2              3.5        Yellow   \n",
       "\n",
       "     Rating text Votes Country  \n",
       "624         Good   140   India  \n",
       "625         Good    71   India  \n",
       "\n",
       "[2 rows x 22 columns]"
      ]
     },
     "execution_count": 14,
     "metadata": {},
     "output_type": "execute_result"
    }
   ],
   "source": [
    "res_india=df2[df2['Country']==\"India\"]\n",
    "res_india.head(2)"
   ]
  },
  {
   "cell_type": "markdown",
   "id": "2438dc9d",
   "metadata": {
    "papermill": {
     "duration": 0.009825,
     "end_time": "2023-04-11T11:54:39.907980",
     "exception": false,
     "start_time": "2023-04-11T11:54:39.898155",
     "status": "completed"
    },
    "tags": []
   },
   "source": [
    "**City wise analysis**"
   ]
  },
  {
   "cell_type": "code",
   "execution_count": 15,
   "id": "f49153ad",
   "metadata": {
    "execution": {
     "iopub.execute_input": "2023-04-11T11:54:39.930529Z",
     "iopub.status.busy": "2023-04-11T11:54:39.929910Z",
     "iopub.status.idle": "2023-04-11T11:54:39.938024Z",
     "shell.execute_reply": "2023-04-11T11:54:39.937049Z"
    },
    "papermill": {
     "duration": 0.021974,
     "end_time": "2023-04-11T11:54:39.940078",
     "exception": false,
     "start_time": "2023-04-11T11:54:39.918104",
     "status": "completed"
    },
    "tags": []
   },
   "outputs": [
    {
     "data": {
      "text/plain": [
       "New Delhi       5473\n",
       "Gurgaon         1118\n",
       "Noida           1080\n",
       "Faridabad        251\n",
       "Ghaziabad         25\n",
       "Ahmedabad         21\n",
       "Guwahati          21\n",
       "Lucknow           21\n",
       "Bhubaneshwar      21\n",
       "Amritsar          21\n",
       "Pune              20\n",
       "Puducherry        20\n",
       "Patna             20\n",
       "Ludhiana          20\n",
       "Ranchi            20\n",
       "Surat             20\n",
       "Vadodara          20\n",
       "Nashik            20\n",
       "Nagpur            20\n",
       "Mysore            20\n",
       "Mumbai            20\n",
       "Varanasi          20\n",
       "Mangalore         20\n",
       "Agra              20\n",
       "Kochi             20\n",
       "Kolkata           20\n",
       "Dehradun          20\n",
       "Allahabad         20\n",
       "Aurangabad        20\n",
       "Bangalore         20\n",
       "Bhopal            20\n",
       "Chennai           20\n",
       "Coimbatore        20\n",
       "Goa               20\n",
       "Indore            20\n",
       "Jaipur            20\n",
       "Kanpur            20\n",
       "Vizag             20\n",
       "Chandigarh        18\n",
       "Hyderabad         18\n",
       "Secunderabad       2\n",
       "Panchkula          1\n",
       "Mohali             1\n",
       "Name: City, dtype: int64"
      ]
     },
     "execution_count": 15,
     "metadata": {},
     "output_type": "execute_result"
    }
   ],
   "source": [
    "res_india.City.value_counts()"
   ]
  },
  {
   "cell_type": "markdown",
   "id": "7a63723a",
   "metadata": {
    "papermill": {
     "duration": 0.00997,
     "end_time": "2023-04-11T11:54:39.960566",
     "exception": false,
     "start_time": "2023-04-11T11:54:39.950596",
     "status": "completed"
    },
    "tags": []
   },
   "source": [
    "so from this we can see that max of restaurants in our dataset are from Delhi , Gurgoan and Noida so we can shift our analysis to these regions only for more better answers to buisness questions "
   ]
  },
  {
   "cell_type": "markdown",
   "id": "f2cb22e3",
   "metadata": {
    "papermill": {
     "duration": 0.010093,
     "end_time": "2023-04-11T11:54:39.981080",
     "exception": false,
     "start_time": "2023-04-11T11:54:39.970987",
     "status": "completed"
    },
    "tags": []
   },
   "source": [
    "**MAX RESTAURANTS Locality in New Delhi** which will give us the idea of requirement of number of riders(food delivery persons) required in which locality is more"
   ]
  },
  {
   "cell_type": "code",
   "execution_count": 16,
   "id": "04d779de",
   "metadata": {
    "execution": {
     "iopub.execute_input": "2023-04-11T11:54:40.004003Z",
     "iopub.status.busy": "2023-04-11T11:54:40.003545Z",
     "iopub.status.idle": "2023-04-11T11:54:40.503682Z",
     "shell.execute_reply": "2023-04-11T11:54:40.502543Z"
    },
    "papermill": {
     "duration": 0.514469,
     "end_time": "2023-04-11T11:54:40.506053",
     "exception": false,
     "start_time": "2023-04-11T11:54:39.991584",
     "status": "completed"
    },
    "tags": []
   },
   "outputs": [
    {
     "data": {
      "text/plain": [
       "Text(0.5, 1.0, 'Restaurants Listing in New Delhi')"
      ]
     },
     "execution_count": 16,
     "metadata": {},
     "output_type": "execute_result"
    },
    {
     "data": {
      "image/png": "[encoded data removed]",
      "text/plain": [
       "<Figure size 864x432 with 1 Axes>"
      ]
     },
     "metadata": {
      "needs_background": "light"
     },
     "output_type": "display_data"
    }
   ],
   "source": [
    "delhi=df2[(df2.City==\"New Delhi\")]\n",
    "plt.figure(figsize=(12,6))\n",
    "sns.barplot(x=delhi.Locality.value_counts().head(10),y=delhi.Locality.value_counts().head(10).index)\n",
    "\n",
    "plt.ylabel(None)\n",
    "plt.xlabel(\"Number of restaurants\")\n",
    "plt.title(\"Restaurants Listing in New Delhi\")"
   ]
  },
  {
   "cell_type": "markdown",
   "id": "65fcf34c",
   "metadata": {
    "papermill": {
     "duration": 0.0107,
     "end_time": "2023-04-11T11:54:40.528274",
     "exception": false,
     "start_time": "2023-04-11T11:54:40.517574",
     "status": "completed"
    },
    "tags": []
   },
   "source": [
    "Now that we know max of restaurants are there in Caunaght place so we can see which restaurants are more favourable to public by analysis on reviews given by public"
   ]
  },
  {
   "cell_type": "code",
   "execution_count": 17,
   "id": "779263d4",
   "metadata": {
    "execution": {
     "iopub.execute_input": "2023-04-11T11:54:40.552320Z",
     "iopub.status.busy": "2023-04-11T11:54:40.551655Z",
     "iopub.status.idle": "2023-04-11T11:54:40.577867Z",
     "shell.execute_reply": "2023-04-11T11:54:40.576838Z"
    },
    "papermill": {
     "duration": 0.041098,
     "end_time": "2023-04-11T11:54:40.580284",
     "exception": false,
     "start_time": "2023-04-11T11:54:40.539186",
     "status": "completed"
    },
    "tags": []
   },
   "outputs": [
    {
     "data": {
      "text/html": [
       "<div>\n",
       "<style scoped>\n",
       "    .dataframe tbody tr th:only-of-type {\n",
       "        vertical-align: middle;\n",
       "    }\n",
       "\n",
       "    .dataframe tbody tr th {\n",
       "        vertical-align: top;\n",
       "    }\n",
       "\n",
       "    .dataframe thead th {\n",
       "        text-align: right;\n",
       "    }\n",
       "</style>\n",
       "<table border=\"1\" class=\"dataframe\">\n",
       "  <thead>\n",
       "    <tr style=\"text-align: right;\">\n",
       "      <th></th>\n",
       "      <th>Restaurant ID</th>\n",
       "      <th>Restaurant Name</th>\n",
       "      <th>Country Code</th>\n",
       "      <th>City</th>\n",
       "      <th>Address</th>\n",
       "      <th>Locality</th>\n",
       "      <th>Locality Verbose</th>\n",
       "      <th>Longitude</th>\n",
       "      <th>Latitude</th>\n",
       "      <th>Cuisines</th>\n",
       "      <th>...</th>\n",
       "      <th>Has Table booking</th>\n",
       "      <th>Has Online delivery</th>\n",
       "      <th>Is delivering now</th>\n",
       "      <th>Switch to order menu</th>\n",
       "      <th>Price range</th>\n",
       "      <th>Aggregate rating</th>\n",
       "      <th>Rating color</th>\n",
       "      <th>Rating text</th>\n",
       "      <th>Votes</th>\n",
       "      <th>Country</th>\n",
       "    </tr>\n",
       "  </thead>\n",
       "  <tbody>\n",
       "    <tr>\n",
       "      <th>3012</th>\n",
       "      <td>18418277</td>\n",
       "      <td>MOB Brewpub</td>\n",
       "      <td>1</td>\n",
       "      <td>New Delhi</td>\n",
       "      <td>M 44, Outer Circle, Connaught Place, New Delhi</td>\n",
       "      <td>Connaught Place</td>\n",
       "      <td>Connaught Place, New Delhi</td>\n",
       "      <td>77.222642</td>\n",
       "      <td>28.633276</td>\n",
       "      <td>Continental, Italian, Asian, Indian</td>\n",
       "      <td>...</td>\n",
       "      <td>No</td>\n",
       "      <td>No</td>\n",
       "      <td>No</td>\n",
       "      <td>No</td>\n",
       "      <td>3</td>\n",
       "      <td>4.7</td>\n",
       "      <td>Dark Green</td>\n",
       "      <td>Excellent</td>\n",
       "      <td>52</td>\n",
       "      <td>India</td>\n",
       "    </tr>\n",
       "    <tr>\n",
       "      <th>3013</th>\n",
       "      <td>310143</td>\n",
       "      <td>Naturals Ice Cream</td>\n",
       "      <td>1</td>\n",
       "      <td>New Delhi</td>\n",
       "      <td>L-8, Outer Circle, Connaught Place, New Delhi</td>\n",
       "      <td>Connaught Place</td>\n",
       "      <td>Connaught Place, New Delhi</td>\n",
       "      <td>77.222148</td>\n",
       "      <td>28.634348</td>\n",
       "      <td>Ice Cream</td>\n",
       "      <td>...</td>\n",
       "      <td>No</td>\n",
       "      <td>Yes</td>\n",
       "      <td>No</td>\n",
       "      <td>No</td>\n",
       "      <td>1</td>\n",
       "      <td>4.9</td>\n",
       "      <td>Dark Green</td>\n",
       "      <td>Excellent</td>\n",
       "      <td>2620</td>\n",
       "      <td>India</td>\n",
       "    </tr>\n",
       "  </tbody>\n",
       "</table>\n",
       "<p>2 rows × 22 columns</p>\n",
       "</div>"
      ],
      "text/plain": [
       "      Restaurant ID     Restaurant Name  Country Code       City  \\\n",
       "3012       18418277         MOB Brewpub             1  New Delhi   \n",
       "3013         310143  Naturals Ice Cream             1  New Delhi   \n",
       "\n",
       "                                             Address         Locality  \\\n",
       "3012  M 44, Outer Circle, Connaught Place, New Delhi  Connaught Place   \n",
       "3013   L-8, Outer Circle, Connaught Place, New Delhi  Connaught Place   \n",
       "\n",
       "                Locality Verbose  Longitude   Latitude  \\\n",
       "3012  Connaught Place, New Delhi  77.222642  28.633276   \n",
       "3013  Connaught Place, New Delhi  77.222148  28.634348   \n",
       "\n",
       "                                 Cuisines  ...  Has Table booking  \\\n",
       "3012  Continental, Italian, Asian, Indian  ...                 No   \n",
       "3013                            Ice Cream  ...                 No   \n",
       "\n",
       "     Has Online delivery Is delivering now Switch to order menu Price range  \\\n",
       "3012                  No                No                   No           3   \n",
       "3013                 Yes                No                   No           1   \n",
       "\n",
       "     Aggregate rating  Rating color  Rating text Votes Country  \n",
       "3012              4.7    Dark Green    Excellent    52   India  \n",
       "3013              4.9    Dark Green    Excellent  2620   India  \n",
       "\n",
       "[2 rows x 22 columns]"
      ]
     },
     "execution_count": 17,
     "metadata": {},
     "output_type": "execute_result"
    }
   ],
   "source": [
    "cp=delhi[(delhi.Locality.isin(['Connaught Place'])) & (delhi[\"Rating text\"].isin(['Excellent','Very Good']))]\n",
    "cp.head(2)"
   ]
  },
  {
   "cell_type": "markdown",
   "id": "af47caed",
   "metadata": {
    "papermill": {
     "duration": 0.010793,
     "end_time": "2023-04-11T11:54:40.602670",
     "exception": false,
     "start_time": "2023-04-11T11:54:40.591877",
     "status": "completed"
    },
    "tags": []
   },
   "source": [
    "**So in this way we can do EDA on various other questions like cuisines they offer and what type of cuisine a particular locality prefer**\n"
   ]
  },
  {
   "cell_type": "markdown",
   "id": "2d56388a",
   "metadata": {
    "papermill": {
     "duration": 0.01074,
     "end_time": "2023-04-11T11:54:40.624577",
     "exception": false,
     "start_time": "2023-04-11T11:54:40.613837",
     "status": "completed"
    },
    "tags": []
   },
   "source": [
    "**I'm still a newbie and would love to gain something from your feedback so please comment and do upvote if you like the basic EDA performed on this dataset**"
   ]
  },
  {
   "cell_type": "markdown",
   "id": "f99f052b",
   "metadata": {
    "papermill": {
     "duration": 0.010965,
     "end_time": "2023-04-11T11:54:40.646849",
     "exception": false,
     "start_time": "2023-04-11T11:54:40.635884",
     "status": "completed"
    },
    "tags": []
   },
   "source": [
    "# Thank you !!!"
   ]
  }
 ],
 "metadata": {
  "kernelspec": {
   "display_name": "Python 3",
   "language": "python",
   "name": "python3"
  },
  "language_info": {
   "codemirror_mode": {
    "name": "ipython",
    "version": 3
   },
   "file_extension": ".py",
   "mimetype": "text/x-python",
   "name": "python",
   "nbconvert_exporter": "python",
   "pygments_lexer": "ipython3",
   "version": "3.7.12"
  },
  "papermill": {
   "default_parameters": {},
   "duration": 28.45215,
   "end_time": "2023-04-11T11:54:41.581252",
   "environment_variables": {},
   "exception": null,
   "input_path": "__notebook__.ipynb",
   "output_path": "__notebook__.ipynb",
   "parameters": {},
   "start_time": "2023-04-11T11:54:13.129102",
   "version": "2.3.4"
  }
 },
 "nbformat": 4,
 "nbformat_minor": 5
}
